{
  "nbformat": 4,
  "nbformat_minor": 0,
  "metadata": {
    "colab": {
      "provenance": [],
      "authorship_tag": "ABX9TyPWEzSUAag+k/Svf08bh23d",
      "include_colab_link": true
    },
    "kernelspec": {
      "name": "python3",
      "display_name": "Python 3"
    },
    "language_info": {
      "name": "python"
    }
  },
  "cells": [
    {
      "cell_type": "markdown",
      "metadata": {
        "id": "view-in-github",
        "colab_type": "text"
      },
      "source": [
        "<a href=\"https://colab.research.google.com/github/Atlans159/Atlans159/blob/main/C%C3%B3pia_de_FraudeEcommerce.ipynb\" target=\"_parent\"><img src=\"https://colab.research.google.com/assets/colab-badge.svg\" alt=\"Open In Colab\"/></a>"
      ]
    },
    {
      "cell_type": "markdown",
      "source": [
        "# **1. Instalando o Pyspark**\n"
      ],
      "metadata": {
        "id": "ygHUaDdLHsVk"
      }
    },
    {
      "cell_type": "code",
      "execution_count": 2,
      "metadata": {
        "id": "B_SUQAb4HrQJ",
        "colab": {
          "base_uri": "https://localhost:8080/"
        },
        "outputId": "6a41bc9d-6fb3-4c1a-b17b-82d2b46932b8"
      },
      "outputs": [
        {
          "output_type": "stream",
          "name": "stdout",
          "text": [
            "Collecting pyspark\n",
            "  Downloading pyspark-3.5.1.tar.gz (317.0 MB)\n",
            "\u001b[2K     \u001b[90m━━━━━━━━━━━━━━━━━━━━━━━━━━━━━━━━━━━━━━━━\u001b[0m \u001b[32m317.0/317.0 MB\u001b[0m \u001b[31m3.7 MB/s\u001b[0m eta \u001b[36m0:00:00\u001b[0m\n",
            "\u001b[?25h  Preparing metadata (setup.py) ... \u001b[?25l\u001b[?25hdone\n",
            "Requirement already satisfied: py4j==0.10.9.7 in /usr/local/lib/python3.10/dist-packages (from pyspark) (0.10.9.7)\n",
            "Building wheels for collected packages: pyspark\n",
            "  Building wheel for pyspark (setup.py) ... \u001b[?25l\u001b[?25hdone\n",
            "  Created wheel for pyspark: filename=pyspark-3.5.1-py2.py3-none-any.whl size=317488493 sha256=6c3d9a579e5278968a806a329baf0274dd2be9a60d1c357e1e35369aac0ce1b3\n",
            "  Stored in directory: /root/.cache/pip/wheels/80/1d/60/2c256ed38dddce2fdd93be545214a63e02fbd8d74fb0b7f3a6\n",
            "Successfully built pyspark\n",
            "Installing collected packages: pyspark\n",
            "Successfully installed pyspark-3.5.1\n"
          ]
        }
      ],
      "source": [
        "!pip install pyspark"
      ]
    },
    {
      "cell_type": "markdown",
      "source": [
        "# **2. Inicializando Pyspark**"
      ],
      "metadata": {
        "id": "spa_UAbLHy_2"
      }
    },
    {
      "cell_type": "code",
      "source": [
        "import pyspark.sql as sql"
      ],
      "metadata": {
        "id": "pXZBOlznH2Ww"
      },
      "execution_count": 3,
      "outputs": []
    },
    {
      "cell_type": "code",
      "source": [
        "spark = sql.SparkSession.builder.appName(\"Fraude_Ecommerce\").getOrCreate()"
      ],
      "metadata": {
        "id": "fsqzsf4jICUp"
      },
      "execution_count": 4,
      "outputs": []
    },
    {
      "cell_type": "markdown",
      "source": [
        "# **3. Lendo o Dataset**"
      ],
      "metadata": {
        "id": "Is-LhxF4IcRy"
      }
    },
    {
      "cell_type": "code",
      "source": [
        "df = spark.read.csv(\"Fraud_Data.csv\", header = True, inferSchema=True)\n",
        "\n",
        "# Definindo um schema e criando o dataframe explicitamente.\n",
        "#schema = StructType([\n",
        "#    StructField(\"user_id\", IntegerType(), nullable=True),\n",
        "#    StructField(\"signup_time\", TimestampType(), nullable=True),\n",
        "#    StructField(\"purchase_time\", TimestampType(), nullable=True),\n",
        "#    StructField(\"purchase_value\", IntegerType(), nullable=True),\n",
        "#    StructField(\"device_id\", StringType(), nullable=True),\n",
        "#    StructField(\"source\", StringType(), nullable=True),\n",
        "#    StructField(\"browser\", StringType(), nullable=True),\n",
        "#    StructField(\"sex\", StringType(), nullable=True),\n",
        "#    StructField(\"age\", IntegerType(), nullable=True),\n",
        "#    StructField(\"ip_address\", DoubleType(), nullable=True),\n",
        "#    StructField(\"class\", IntegerType(), nullable=True)\n",
        "#])\n",
        "\n",
        "#data = spark.read.csv(\"Fraud_Data.csv\", header = True)\n",
        "#df = spark.createDataFrame(data, schema)\n"
      ],
      "metadata": {
        "id": "7UQjloFzIbcz"
      },
      "execution_count": 7,
      "outputs": []
    },
    {
      "cell_type": "code",
      "source": [
        "df.show()"
      ],
      "metadata": {
        "id": "ti_DFbIG0SEi",
        "outputId": "9b1d84a5-2fb3-4ae6-e50e-4b4648ef3882",
        "colab": {
          "base_uri": "https://localhost:8080/"
        }
      },
      "execution_count": 8,
      "outputs": [
        {
          "output_type": "stream",
          "name": "stdout",
          "text": [
            "+-------+-------------------+-------------------+--------------+-------------+------+-------+---+---+------------------+-----+\n",
            "|user_id|        signup_time|      purchase_time|purchase_value|    device_id|source|browser|sex|age|        ip_address|class|\n",
            "+-------+-------------------+-------------------+--------------+-------------+------+-------+---+---+------------------+-----+\n",
            "|  22058|2015-02-24 22:55:49|2015-04-18 02:47:11|            34|QVPSPJUOCKZAR|   SEO| Chrome|  M| 39| 7.3275836879972E8|    0|\n",
            "| 333320|2015-06-07 20:39:50|2015-06-08 01:38:54|            16|EOGFQPIZPYXFZ|   Ads| Chrome|  F| 53|3.50311387865908E8|    0|\n",
            "|   1359|2015-01-01 18:52:44|2015-01-01 18:52:45|            15|YSSKYOSJHPPLJ|   SEO|  Opera|  M| 53|2.62147382011095E9|    1|\n",
            "| 150084|2015-04-28 21:13:25|2015-05-04 13:54:50|            44|ATGTXKYKUDUQN|   SEO| Safari|  M| 41|3.84054244391396E9|    0|\n",
            "| 221365|2015-07-21 07:09:52|2015-09-09 18:40:53|            39|NAUITBZFJKHWW|   Ads| Safari|  M| 45|4.15583117452712E8|    0|\n",
            "| 159135|2015-05-21 06:03:03|2015-07-09 08:05:14|            42|ALEYXFXINSXLZ|   Ads| Chrome|  M| 18|2.80931519992675E9|    0|\n",
            "|  50116|2015-08-01 22:40:52|2015-08-27 03:37:57|            11|IWKVZHJOCLPUR|   Ads| Chrome|  F| 19|3.98748432851882E9|    0|\n",
            "| 360585|2015-04-06 07:35:45|2015-05-25 17:21:14|            27|HPUCUYLMJBYFW|   Ads|  Opera|  M| 34|1.69245872764945E9|    0|\n",
            "| 159045|2015-04-21 23:38:34|2015-06-02 14:01:54|            30|ILXYDOZIHOOHT|   SEO|     IE|  F| 43|3.71909425718731E9|    0|\n",
            "| 182338|2015-01-25 17:49:49|2015-03-23 23:05:42|            62|NRFFPPHZYFUVC|   Ads|     IE|  M| 31|3.41674739579911E8|    0|\n",
            "| 199700|2015-07-11 18:26:54|2015-10-28 21:59:40|            13|TEPSJVVXGNTYR|   Ads| Safari|  F| 35|1.81900857779416E9|    0|\n",
            "|  73884|2015-05-29 16:22:02|2015-06-16 05:45:58|            58|ZTZZJUCRDOCJZ|Direct| Chrome|  M| 32|4.03828455322917E9|    0|\n",
            "|  79203|2015-06-16 21:19:35|2015-06-21 03:29:59|            18|IBPNKSMCKUZWD|   SEO| Safari|  M| 33|4.16154092660127E9|    0|\n",
            "| 299320|2015-03-03 19:17:07|2015-04-05 12:32:36|            50|RMKQNVEWGTWPC|Direct| Safari|  M| 38|3.17851001463508E9|    0|\n",
            "|  82931|2015-02-16 02:50:30|2015-04-16 00:56:47|            15|XKIFNYUZMBWFU|   SEO|     IE|  M| 24| 4.2034877539487E9|    0|\n",
            "|  31383|2015-02-01 01:06:17|2015-03-24 10:17:58|            58|UNUAVQXNWFBMO|   SEO| Safari|  F| 24|9.95732779036539E8|    0|\n",
            "|  78986|2015-05-15 03:52:08|2015-08-11 02:29:47|            57|TGHVAWBMZRDHH|   SEO|FireFox|  M| 23|3.50388339185422E9|    0|\n",
            "| 119824|2015-03-20 00:31:27|2015-04-05 07:31:46|            55|WFIIFCPIOGMHT|   Ads| Safari|  M| 38|  131423.789041531|    0|\n",
            "| 357386|2015-02-03 00:48:38|2015-03-24 18:27:23|            40|NWSVDOHYIOBDR|   Ads|FireFox|  M| 24|3.03737227906483E9|    0|\n",
            "| 289172|2015-07-17 05:48:45|2015-11-12 22:08:11|            46|KFZGQIWDIRLZB|Direct|FireFox|  F| 53|1.04459009757141E9|    0|\n",
            "+-------+-------------------+-------------------+--------------+-------------+------+-------+---+---+------------------+-----+\n",
            "only showing top 20 rows\n",
            "\n"
          ]
        }
      ]
    },
    {
      "cell_type": "markdown",
      "source": [
        "# **4. Checando o Schema.**"
      ],
      "metadata": {
        "id": "DW4h4Nf_0kju"
      }
    },
    {
      "cell_type": "code",
      "source": [
        "df.printSchema()"
      ],
      "metadata": {
        "id": "bn8F2fOp0kJV",
        "outputId": "7d865875-a08a-48cf-fea5-d3f3340f574f",
        "colab": {
          "base_uri": "https://localhost:8080/"
        }
      },
      "execution_count": 9,
      "outputs": [
        {
          "output_type": "stream",
          "name": "stdout",
          "text": [
            "root\n",
            " |-- user_id: integer (nullable = true)\n",
            " |-- signup_time: timestamp (nullable = true)\n",
            " |-- purchase_time: timestamp (nullable = true)\n",
            " |-- purchase_value: integer (nullable = true)\n",
            " |-- device_id: string (nullable = true)\n",
            " |-- source: string (nullable = true)\n",
            " |-- browser: string (nullable = true)\n",
            " |-- sex: string (nullable = true)\n",
            " |-- age: integer (nullable = true)\n",
            " |-- ip_address: double (nullable = true)\n",
            " |-- class: integer (nullable = true)\n",
            "\n"
          ]
        }
      ]
    },
    {
      "cell_type": "markdown",
      "source": [
        "# **5. Análise inicial dos dados**\n"
      ],
      "metadata": {
        "id": "Lit6DvJN09P7"
      }
    },
    {
      "cell_type": "code",
      "source": [
        "#Sumarizando os dados\n",
        "\n",
        "df.summary().show()"
      ],
      "metadata": {
        "id": "MELAZ08g04kU",
        "outputId": "4ae616b0-06f6-4d3a-9f2d-b4cba77253dc",
        "colab": {
          "base_uri": "https://localhost:8080/"
        }
      },
      "execution_count": 10,
      "outputs": [
        {
          "output_type": "stream",
          "name": "stdout",
          "text": [
            "+-------+------------------+-----------------+-------------+------+-------+------+-----------------+--------------------+-------------------+\n",
            "|summary|           user_id|   purchase_value|    device_id|source|browser|   sex|              age|          ip_address|              class|\n",
            "+-------+------------------+-----------------+-------------+------+-------+------+-----------------+--------------------+-------------------+\n",
            "|  count|            151112|           151112|       151113|151113| 151113|151113|           151112|              151112|             151112|\n",
            "|   mean|200171.04096961193|36.93537243898565|         NULL|  NULL|   NULL|  NULL|33.14070358409656|2.1521453309588385E9|0.09364577267192546|\n",
            "| stddev|115369.28502413367|18.32276214866217|         NULL|  NULL|   NULL|  NULL|8.617733490961522|1.2484970301004207E9| 0.2913362380721454|\n",
            "|    min|                 2|                9|AAALBGNHHVMKG|   Ads| Chrome|     F|               18|    52093.4968949854|                  0|\n",
            "|    25%|            100606|               22|         NULL|  NULL|   NULL|  NULL|               27|  1.08581792738779E9|                  0|\n",
            "|    50%|            199953|               35|         NULL|  NULL|   NULL|  NULL|               33|   2.1543656663847E9|                  0|\n",
            "|    75%|            300018|               49|         NULL|  NULL|   NULL|  NULL|               39|  3.24301282917045E9|                  0|\n",
            "|    max|            400000|              154|    device_id|source|browser|   sex|               76|  4.29485049967884E9|                  1|\n",
            "+-------+------------------+-----------------+-------------+------+-------+------+-----------------+--------------------+-------------------+\n",
            "\n"
          ]
        }
      ]
    },
    {
      "cell_type": "code",
      "source": [
        "#Definindo váriaveis globais para a fraude\n",
        "\n",
        "df_fraude = df.filter(df[\"class\"] == 1)\n",
        "df_legitima = df.filter(df[\"class\"] == 0)"
      ],
      "metadata": {
        "id": "oM2DWjmqnwmo"
      },
      "execution_count": 34,
      "outputs": []
    },
    {
      "cell_type": "markdown",
      "source": [
        "**É importante verificar que as compras fraudulentas correspondem a cerca de 9.36% das compras totais, isso causa um impacto significativo no financeiro das empresas de e-commerce, abaixo temos algumas informações e insights referentes ao valor das compras (purchase_value)**\n",
        "\n",
        "É possível verificar que a média do valor de compras é parecido com as compras legitimas, isso pode ser uma forma de mascarar as compras fraudulentas em meio as legitimas, dessa forma o valor de compra não corresponde um varíavel tão significativa na identificação da fraude, sendo necessário a análise de outros fatores."
      ],
      "metadata": {
        "id": "KkNhLxubF-vp"
      }
    },
    {
      "cell_type": "code",
      "source": [
        "#Contando o número de compras fraudadas (OBS: class = 1 é fraude, já = 0 é legítima)\n",
        "\n",
        "df.groupBy(\"class\").count().show()\n",
        "\n",
        "#Porcentagem em relação ao total de compras fraudadas\n",
        "porc_fraude = df_fraude.count() / df.count() * 100\n",
        "print(porc_fraude)\n",
        "\n",
        "#Porcentagem em relação ao total de compras legítimas.\n",
        "porc_legitima = df_legitima.count() / df.count() * 100\n",
        "print(porc_legitima)"
      ],
      "metadata": {
        "id": "CHpgHK7YNzpG",
        "outputId": "4743c6f4-1f7d-45f5-c24b-1a258a39a484",
        "colab": {
          "base_uri": "https://localhost:8080/"
        }
      },
      "execution_count": 110,
      "outputs": [
        {
          "output_type": "stream",
          "name": "stdout",
          "text": [
            "+-----+------+\n",
            "|class| count|\n",
            "+-----+------+\n",
            "|    1| 14151|\n",
            "|    0|136961|\n",
            "| NULL|     1|\n",
            "+-----+------+\n",
            "\n",
            "9.36451529649997\n",
            "90.63482294706611\n"
          ]
        }
      ]
    },
    {
      "cell_type": "code",
      "source": [
        "df_vendas_tipo = df.groupBy(\"class\").agg(sum(\"purchase_value\").alias(\"Total Vendas\"))\n",
        "\n",
        "# Exibindo os resultados\n",
        "df_vendas_tipo.show()"
      ],
      "metadata": {
        "colab": {
          "base_uri": "https://localhost:8080/"
        },
        "id": "upQAYQGTHqvx",
        "outputId": "a727bedb-d662-4c9b-905f-567402a4635f"
      },
      "execution_count": 112,
      "outputs": [
        {
          "output_type": "stream",
          "name": "stdout",
          "text": [
            "+-----+------------+\n",
            "|class|Total Vendas|\n",
            "+-----+------------+\n",
            "|    1|      523488|\n",
            "|    0|     5057890|\n",
            "| NULL|        NULL|\n",
            "+-----+------------+\n",
            "\n"
          ]
        }
      ]
    },
    {
      "cell_type": "code",
      "source": [
        "#Resumo do valor de compras em relação ao indicador de fraude.\n",
        "\n",
        "df_resumo = df.groupby(\"class\").agg(\n",
        "    sql.functions.mean(\"purchase_value\").alias(\"valor_medio\"),\n",
        "    sql.functions.stddev(\"purchase_value\").alias(\"desvio_padrao\"),\n",
        "    sql.functions.count(\"purchase_value\").alias(\"contagem\"),\n",
        ")\n",
        "\n",
        "df_resumo.show()"
      ],
      "metadata": {
        "id": "yYyILPZSTJjx",
        "outputId": "b3ddaecb-bde9-4d7b-8e21-ce682d9d56e5",
        "colab": {
          "base_uri": "https://localhost:8080/"
        }
      },
      "execution_count": 113,
      "outputs": [
        {
          "output_type": "stream",
          "name": "stdout",
          "text": [
            "+-----+------------------+------------------+--------+\n",
            "|class|       valor_medio|     desvio_padrao|contagem|\n",
            "+-----+------------------+------------------+--------+\n",
            "|    1|36.993004027983886|18.397653690084162|   14151|\n",
            "|    0| 36.92941786347939| 18.31506387000993|  136961|\n",
            "| NULL|              NULL|              NULL|       0|\n",
            "+-----+------------------+------------------+--------+\n",
            "\n"
          ]
        }
      ]
    },
    {
      "cell_type": "markdown",
      "source": [
        "**A alta frequência de compras com apenas um segundo de diferença entre criação de conta e compra levanta a suspeita de um ataque \"pump and dump\". Nesse tipo de fraude, os fraudadores criam contas rapidamente, fazem compras fraudulentas e abandonam as contas.**\n",
        "\n",
        "\n",
        "Possíveis soluções seria análise da velocidade de digitação, além disso contas com velocidades anormais podem ser bloqueadas para análise manual ou através de uma IA, além disso verificação adicional de identidade, como autenticação multifator (MFA) ajudaria a reduzir esse tipo de método para compras fraudulentas."
      ],
      "metadata": {
        "id": "KJyuG9morcs2"
      }
    },
    {
      "cell_type": "code",
      "source": [
        "#Verificando a diferença de dias e segundos para a criação da conta até a data da compra\n",
        "\n",
        "df_datadif_dia = df_fraude.withColumn(\"dias_diferenca\", datediff(\"purchase_time\", \"signup_time\"))\n",
        "\n",
        "df_datadif_segundos = df_fraude.withColumn(\"segundos_diferenca\", unix_timestamp(\"purchase_time\") - unix_timestamp(\"signup_time\"))"
      ],
      "metadata": {
        "id": "ReX1X-tUmL7_"
      },
      "execution_count": 29,
      "outputs": []
    },
    {
      "cell_type": "code",
      "source": [
        "df_datadif_dia.show()\n",
        "df_datadif_segundos.show()"
      ],
      "metadata": {
        "colab": {
          "base_uri": "https://localhost:8080/"
        },
        "id": "9kc37BW8m_bW",
        "outputId": "a82e564c-f27a-48e1-8e2f-d03c2406c6e5"
      },
      "execution_count": 30,
      "outputs": [
        {
          "output_type": "stream",
          "name": "stdout",
          "text": [
            "+-------+-------------------+-------------------+--------------+-------------+------+-------+---+---+------------------+-----+--------------+\n",
            "|user_id|        signup_time|      purchase_time|purchase_value|    device_id|source|browser|sex|age|        ip_address|class|dias_diferenca|\n",
            "+-------+-------------------+-------------------+--------------+-------------+------+-------+---+---+------------------+-----+--------------+\n",
            "|   1359|2015-01-01 18:52:44|2015-01-01 18:52:45|            15|YSSKYOSJHPPLJ|   SEO|  Opera|  M| 53|2.62147382011095E9|    1|             0|\n",
            "| 171711|2015-01-11 01:51:15|2015-01-11 01:51:16|            52|YPLQGKBAAULUV|Direct|     IE|  F| 35|1.12061933584996E9|    1|             0|\n",
            "|  59780|2015-01-04 22:32:33|2015-01-16 01:13:43|            31|WUMOBGUCBOXPO|   SEO|FireFox|  M| 36| 1.7521668237958E9|    1|            12|\n",
            "| 151705|2015-01-07 03:44:53|2015-01-07 03:44:54|            48|URHCRIXOMLJMH|   SEO| Chrome|  F| 27|2.83602522069469E9|    1|             0|\n",
            "| 345865|2015-02-01 05:59:23|2015-02-20 08:09:10|            36|FKQPZUELCRKBL|   SEO|     IE|  M| 30|2.74058978715788E9|    1|            19|\n",
            "| 324683|2015-01-18 02:51:59|2015-04-19 22:24:33|            27|JFVSIORUJBMXS|   Ads|     IE|  M| 28|4.22802781225944E9|    1|            91|\n",
            "| 336190|2015-01-05 21:07:24|2015-03-15 00:43:18|            14|ECDEOLUBPCUAI|   Ads|     IE|  M| 35|4.00689991674828E9|    1|            69|\n",
            "| 181004|2015-01-07 17:45:16|2015-01-07 17:45:17|            10|WETYPHOQVLWMK|   Ads|FireFox|  M| 36|2.29333268178064E9|    1|             0|\n",
            "| 392706|2015-01-07 08:15:53|2015-01-07 08:15:54|            65|VRYLIRAQJIIIE|   SEO|  Opera|  F| 30|1.21310490378116E9|    1|             0|\n",
            "|  67592|2015-01-10 23:23:25|2015-01-10 23:23:26|            38|ITUMJCKWEYNDD|   Ads| Safari|  M| 43|3.87475761726129E9|    1|             0|\n",
            "| 198982|2015-04-17 07:26:15|2015-05-03 21:43:57|            44|BYSCYGRHWSHIU|   Ads| Chrome|  F| 26|1.33410617113356E9|    1|            16|\n",
            "| 352206|2015-01-06 21:48:13|2015-01-06 21:48:14|            45|FRITFBEXOSJEI|   Ads|     IE|  F| 22|1.36751750776938E9|    1|             0|\n",
            "| 102563|2015-03-26 12:11:48|2015-05-08 11:45:09|            45|JUVSDAWADEXXX|   SEO| Chrome|  M| 41|3.75447185104302E9|    1|            43|\n",
            "| 162603|2015-07-30 00:25:42|2015-10-12 04:28:11|            26|LEAPEDUGFIJAS|   SEO| Chrome|  M| 31|3.42760238973259E9|    1|            74|\n",
            "| 104061|2015-01-05 00:09:57|2015-01-05 00:09:58|            23|XSEQHFFOYFICY|   SEO|     IE|  M| 33|2.01198914458386E9|    1|             0|\n",
            "| 348260|2015-01-10 17:13:50|2015-01-10 17:13:51|            18|VOQAAYLLJLUII|   SEO| Safari|  M| 27|7.98938591259098E8|    1|             0|\n",
            "| 121703|2015-01-06 08:56:42|2015-01-06 08:56:43|            28|XAVNTONBKCVJS|Direct| Safari|  M| 34|2.89001203953189E9|    1|             0|\n",
            "| 142279|2015-06-10 04:22:41|2015-06-14 00:02:38|            46|LLJGYWZXYIXJR|   Ads| Safari|  M| 29|4.24505885805681E9|    1|             4|\n",
            "| 292922|2015-01-07 11:51:20|2015-01-07 11:51:21|            11|LCIDSXJYNIOGD|   SEO|     IE|  M| 30| 1.4478796032071E9|    1|             0|\n",
            "| 170138|2015-01-08 09:32:59|2015-01-08 09:33:00|            14|GTIYVLCMAYBFA|   Ads|FireFox|  M| 39|2.14169194761474E9|    1|             0|\n",
            "+-------+-------------------+-------------------+--------------+-------------+------+-------+---+---+------------------+-----+--------------+\n",
            "only showing top 20 rows\n",
            "\n",
            "+-------+-------------------+-------------------+--------------+-------------+------+-------+---+---+------------------+-----+------------------+\n",
            "|user_id|        signup_time|      purchase_time|purchase_value|    device_id|source|browser|sex|age|        ip_address|class|segundos_diferenca|\n",
            "+-------+-------------------+-------------------+--------------+-------------+------+-------+---+---+------------------+-----+------------------+\n",
            "|   1359|2015-01-01 18:52:44|2015-01-01 18:52:45|            15|YSSKYOSJHPPLJ|   SEO|  Opera|  M| 53|2.62147382011095E9|    1|                 1|\n",
            "| 171711|2015-01-11 01:51:15|2015-01-11 01:51:16|            52|YPLQGKBAAULUV|Direct|     IE|  F| 35|1.12061933584996E9|    1|                 1|\n",
            "|  59780|2015-01-04 22:32:33|2015-01-16 01:13:43|            31|WUMOBGUCBOXPO|   SEO|FireFox|  M| 36| 1.7521668237958E9|    1|            960070|\n",
            "| 151705|2015-01-07 03:44:53|2015-01-07 03:44:54|            48|URHCRIXOMLJMH|   SEO| Chrome|  F| 27|2.83602522069469E9|    1|                 1|\n",
            "| 345865|2015-02-01 05:59:23|2015-02-20 08:09:10|            36|FKQPZUELCRKBL|   SEO|     IE|  M| 30|2.74058978715788E9|    1|           1649387|\n",
            "| 324683|2015-01-18 02:51:59|2015-04-19 22:24:33|            27|JFVSIORUJBMXS|   Ads|     IE|  M| 28|4.22802781225944E9|    1|           7932754|\n",
            "| 336190|2015-01-05 21:07:24|2015-03-15 00:43:18|            14|ECDEOLUBPCUAI|   Ads|     IE|  M| 35|4.00689991674828E9|    1|           5888154|\n",
            "| 181004|2015-01-07 17:45:16|2015-01-07 17:45:17|            10|WETYPHOQVLWMK|   Ads|FireFox|  M| 36|2.29333268178064E9|    1|                 1|\n",
            "| 392706|2015-01-07 08:15:53|2015-01-07 08:15:54|            65|VRYLIRAQJIIIE|   SEO|  Opera|  F| 30|1.21310490378116E9|    1|                 1|\n",
            "|  67592|2015-01-10 23:23:25|2015-01-10 23:23:26|            38|ITUMJCKWEYNDD|   Ads| Safari|  M| 43|3.87475761726129E9|    1|                 1|\n",
            "| 198982|2015-04-17 07:26:15|2015-05-03 21:43:57|            44|BYSCYGRHWSHIU|   Ads| Chrome|  F| 26|1.33410617113356E9|    1|           1433862|\n",
            "| 352206|2015-01-06 21:48:13|2015-01-06 21:48:14|            45|FRITFBEXOSJEI|   Ads|     IE|  F| 22|1.36751750776938E9|    1|                 1|\n",
            "| 102563|2015-03-26 12:11:48|2015-05-08 11:45:09|            45|JUVSDAWADEXXX|   SEO| Chrome|  M| 41|3.75447185104302E9|    1|           3713601|\n",
            "| 162603|2015-07-30 00:25:42|2015-10-12 04:28:11|            26|LEAPEDUGFIJAS|   SEO| Chrome|  M| 31|3.42760238973259E9|    1|           6408149|\n",
            "| 104061|2015-01-05 00:09:57|2015-01-05 00:09:58|            23|XSEQHFFOYFICY|   SEO|     IE|  M| 33|2.01198914458386E9|    1|                 1|\n",
            "| 348260|2015-01-10 17:13:50|2015-01-10 17:13:51|            18|VOQAAYLLJLUII|   SEO| Safari|  M| 27|7.98938591259098E8|    1|                 1|\n",
            "| 121703|2015-01-06 08:56:42|2015-01-06 08:56:43|            28|XAVNTONBKCVJS|Direct| Safari|  M| 34|2.89001203953189E9|    1|                 1|\n",
            "| 142279|2015-06-10 04:22:41|2015-06-14 00:02:38|            46|LLJGYWZXYIXJR|   Ads| Safari|  M| 29|4.24505885805681E9|    1|            329997|\n",
            "| 292922|2015-01-07 11:51:20|2015-01-07 11:51:21|            11|LCIDSXJYNIOGD|   SEO|     IE|  M| 30| 1.4478796032071E9|    1|                 1|\n",
            "| 170138|2015-01-08 09:32:59|2015-01-08 09:33:00|            14|GTIYVLCMAYBFA|   Ads|FireFox|  M| 39|2.14169194761474E9|    1|                 1|\n",
            "+-------+-------------------+-------------------+--------------+-------------+------+-------+---+---+------------------+-----+------------------+\n",
            "only showing top 20 rows\n",
            "\n"
          ]
        }
      ]
    },
    {
      "cell_type": "markdown",
      "source": [
        "**Esse é um insight valioso e indica uma disparidade significativa entre o número de compras fraudulentas e legítimas em relação a um determinado dispositivo.**\n",
        "\n",
        "Possíveis soluções seria bloquear dispositivos que realizam muitas compras em pouco tempo, além disso como podemos ver no total acumulado por dispositivo e na média móvel os dispositivos sempre fazem as compras com o mesmo valor, o que pode ser mais indício de um padrão no comportamento dos compradores fraudulentos."
      ],
      "metadata": {
        "id": "6UbHuQIgxH6m"
      }
    },
    {
      "cell_type": "code",
      "source": [
        "#Dispositivos com mais compras fraudulentas\n",
        "\n",
        "df_dispositivos_fraude = df_fraude.groupBy(\"device_id\").agg(count(\"purchase_value\").alias(\"Contagem\"),round(avg(\"purchase_value\"), 2).alias(\"Valor médio compras\"))\n",
        "df_dispositivos_fraude = df_dispositivos_fraude.orderBy(\"Contagem\", ascending = False)\n",
        "df_dispositivos_fraude.show()"
      ],
      "metadata": {
        "colab": {
          "base_uri": "https://localhost:8080/"
        },
        "id": "PmwMGQ_RxICE",
        "outputId": "2fc4d3c8-32a8-433e-efe3-b785974cb124"
      },
      "execution_count": 59,
      "outputs": [
        {
          "output_type": "stream",
          "name": "stdout",
          "text": [
            "+-------------+--------+-------------------+\n",
            "|    device_id|Contagem|Valor médio compras|\n",
            "+-------------+--------+-------------------+\n",
            "|EQYVNEGOFLAWK|      19|              68.53|\n",
            "|KIPFSCNUGOLDP|      19|               58.0|\n",
            "|ITUMJCKWEYNDD|      19|               38.0|\n",
            "|NGQCKIADMZORL|      19|               42.0|\n",
            "|CQTUVBYIWWWBC|      19|               32.0|\n",
            "|ZUSVMDEZRBDTX|      19|               47.0|\n",
            "|SDJQRPKXQFBED|      18|               33.0|\n",
            "|BWSMVSLCJXMCM|      18|               15.0|\n",
            "|EGLGSEGYPMMAM|      18|               36.0|\n",
            "|IGKYVZDBEGALB|      18|               26.0|\n",
            "|CDFXVYHOIHPYP|      18|               44.0|\n",
            "|OGBNHQHDZLGFZ|      17|               59.0|\n",
            "|FFWAQIABHGYJC|      17|               11.0|\n",
            "|XJWEQEWCBRAKD|      17|               24.0|\n",
            "|GTIYVLCMAYBFA|      17|               14.0|\n",
            "|QVMVTZOIJDKNR|      17|               59.0|\n",
            "|XHZBVWFWHSGTQ|      17|               54.0|\n",
            "|KPAAACGRQWYIK|      17|               81.0|\n",
            "|RWZCXZTQUORQL|      17|               71.0|\n",
            "|TAODVYWZTHMTO|      17|               40.0|\n",
            "+-------------+--------+-------------------+\n",
            "only showing top 20 rows\n",
            "\n"
          ]
        }
      ]
    },
    {
      "cell_type": "code",
      "source": [
        "#Dispositivos com mais compras legitimas.\n",
        "\n",
        "df_dispositivos_legitima = df_legitima.groupBy(\"device_id\").agg(count(\"purchase_value\").alias(\"Contagem\"),round(avg(\"purchase_value\"), 2).alias(\"Valor médio compras\"))\n",
        "df_dispositivos_legitima = df_dispositivos_legitima.orderBy(\"Contagem\", ascending = False)\n",
        "df_dispositivos_legitima.show()"
      ],
      "metadata": {
        "colab": {
          "base_uri": "https://localhost:8080/"
        },
        "id": "-PfqNBBHzmV1",
        "outputId": "0e7753c8-c103-489a-8164-e5ed5ebf386e"
      },
      "execution_count": 61,
      "outputs": [
        {
          "output_type": "stream",
          "name": "stdout",
          "text": [
            "+-------------+--------+-------------------+\n",
            "|    device_id|Contagem|Valor médio compras|\n",
            "+-------------+--------+-------------------+\n",
            "|MSXHVARAESYVD|       3|              37.67|\n",
            "|FHKAGBGKXTAFT|       3|               36.0|\n",
            "|QKCFXAKWCADLJ|       3|              31.33|\n",
            "|VGJENUEZWZAOK|       3|               43.0|\n",
            "|CIWZEIWVKCTDZ|       3|               41.0|\n",
            "|MJOUMICHIMYAP|       3|               21.0|\n",
            "|QFZJSWVRVKZAT|       3|              73.67|\n",
            "|MDLRUHFIIHHPY|       3|               40.0|\n",
            "|WKXDOKMKCXLNQ|       3|               31.0|\n",
            "|HVGLMDIRYIEVX|       3|              38.33|\n",
            "|BYCZKAGDTERRQ|       3|               29.0|\n",
            "|MBXRPIGJLGMHU|       3|               53.0|\n",
            "|TUTIBAJWVRPPI|       3|              60.33|\n",
            "|HPJABLMUQASBK|       3|               19.0|\n",
            "|FUJYPBUMWDXTO|       3|               38.0|\n",
            "|ESTKJLLKCHBMW|       3|              51.33|\n",
            "|NMWIJIQLRSPTN|       3|              53.33|\n",
            "|LLVQVKNEEXFMS|       3|              35.33|\n",
            "|HCYSLYNRFLAXU|       3|              33.33|\n",
            "|CPSDECQLSMHGK|       3|              41.67|\n",
            "+-------------+--------+-------------------+\n",
            "only showing top 20 rows\n",
            "\n"
          ]
        }
      ]
    },
    {
      "cell_type": "code",
      "source": [
        "from pyspark.sql.window import Window\n",
        "\n",
        "windowSpec = Window.partitionBy(\"device_id\").orderBy(desc(\"purchase_time\"))\n",
        "\n",
        "# Calculando o total acumulado o valor de compra\n",
        "df_total_acumulado = df_fraude.withColumn(\n",
        "    \"Total Acumulado\", sum(\"purchase_value\").over(windowSpec)\n",
        ")\n",
        "\n",
        "# Calculando a média móvel do valor de compra\n",
        "tam_janela = 3\n",
        "df_media_movel = df_total_acumulado.withColumn(\n",
        "    \"Média Móvel\",\n",
        "    avg(\"purchase_value\").over(windowSpec.rowsBetween(-tam_janela + 1, 0)),\n",
        ")\n",
        "\n",
        "# Exibindo os resultados\n",
        "df_media_movel.show()"
      ],
      "metadata": {
        "colab": {
          "base_uri": "https://localhost:8080/"
        },
        "id": "0vt-VUOoEVIs",
        "outputId": "5b0a537e-258c-4896-99a3-047da8437b3f"
      },
      "execution_count": 93,
      "outputs": [
        {
          "output_type": "stream",
          "name": "stdout",
          "text": [
            "+-------+-------------------+-------------------+--------------+-------------+------+-------+---+---+------------------+-----+---------------+-----------+\n",
            "|user_id|        signup_time|      purchase_time|purchase_value|    device_id|source|browser|sex|age|        ip_address|class|Total Acumulado|Média Móvel|\n",
            "+-------+-------------------+-------------------+--------------+-------------+------+-------+---+---+------------------+-----+---------------+-----------+\n",
            "|  77511|2015-01-01 04:25:31|2015-01-01 04:25:32|            57|AAAXXOZJRZRAO|   Ads|FireFox|  F| 36|1.37784923309361E9|    1|             57|       57.0|\n",
            "| 190872|2015-01-01 04:25:30|2015-01-01 04:25:31|            57|AAAXXOZJRZRAO|   Ads|FireFox|  F| 36|1.37784923309361E9|    1|            114|       57.0|\n",
            "| 314594|2015-01-01 04:25:29|2015-01-01 04:25:30|            57|AAAXXOZJRZRAO|   Ads|FireFox|  F| 36|1.37784923309361E9|    1|            171|       57.0|\n",
            "| 254993|2015-01-01 04:25:28|2015-01-01 04:25:29|            57|AAAXXOZJRZRAO|   Ads|FireFox|  F| 36|1.37784923309361E9|    1|            228|       57.0|\n",
            "| 100914|2015-01-01 04:25:27|2015-01-01 04:25:28|            57|AAAXXOZJRZRAO|   Ads|FireFox|  F| 36|1.37784923309361E9|    1|            285|       57.0|\n",
            "| 299963|2015-01-01 04:25:26|2015-01-01 04:25:27|            57|AAAXXOZJRZRAO|   Ads|FireFox|  F| 36|1.37784923309361E9|    1|            342|       57.0|\n",
            "| 271176|2015-01-01 04:25:25|2015-01-01 04:25:26|            57|AAAXXOZJRZRAO|   Ads|FireFox|  F| 36|1.37784923309361E9|    1|            399|       57.0|\n",
            "| 336015|2015-01-01 04:25:24|2015-01-01 04:25:25|            57|AAAXXOZJRZRAO|   Ads|FireFox|  F| 36|1.37784923309361E9|    1|            456|       57.0|\n",
            "|  64674|2015-01-01 04:25:23|2015-01-01 04:25:24|            57|AAAXXOZJRZRAO|   Ads|FireFox|  F| 36|1.37784923309361E9|    1|            513|       57.0|\n",
            "| 325729|2015-01-01 04:25:22|2015-01-01 04:25:23|            57|AAAXXOZJRZRAO|   Ads|FireFox|  F| 36|1.37784923309361E9|    1|            570|       57.0|\n",
            "| 211576|2015-02-27 18:04:07|2015-05-25 04:43:27|            26|AADGMPYOPXXCX|   SEO| Chrome|  M| 37|1.34601695422639E9|    1|             26|       26.0|\n",
            "|   1468|2015-07-24 19:29:24|2015-09-04 03:14:11|            63|AAEWGRKQJJMVI|Direct| Chrome|  F| 33|5.60479130995184E8|    1|             63|       63.0|\n",
            "|   8085|2015-03-15 19:41:26|2015-07-08 17:18:12|            46|AAIEIZJZIKDLN|   SEO| Chrome|  M| 44|2.48025554664894E9|    1|             46|       46.0|\n",
            "| 216015|2015-02-09 05:29:53|2015-04-14 09:57:34|            44|AAJCSUCPHKORJ|Direct| Safari|  F| 41| 5.6783296425608E8|    1|             44|       44.0|\n",
            "| 231764|2015-04-25 20:21:36|2015-06-10 01:36:11|            39|AAMSWOQZIJJZC|   SEO| Safari|  F| 36|2.63861400861493E9|    1|             39|       39.0|\n",
            "| 253029|2015-06-15 23:53:20|2015-06-20 10:03:00|            48|AANHQRSKUCHIC|   Ads| Chrome|  M| 50|4.12759860921033E9|    1|             48|       48.0|\n",
            "|   9925|2015-01-12 23:29:44|2015-01-12 23:29:45|            42|AANYBGQSWHRTK|   SEO| Safari|  M| 29|2.70798363352978E9|    1|             42|       42.0|\n",
            "| 117468|2015-01-12 23:29:43|2015-01-12 23:29:44|            42|AANYBGQSWHRTK|   SEO| Safari|  M| 29|2.70798363352978E9|    1|             84|       42.0|\n",
            "| 385437|2015-01-12 23:29:42|2015-01-12 23:29:43|            42|AANYBGQSWHRTK|   SEO| Safari|  M| 29|2.70798363352978E9|    1|            126|       42.0|\n",
            "|  99187|2015-01-12 23:29:41|2015-01-12 23:29:42|            42|AANYBGQSWHRTK|   SEO| Safari|  M| 29|2.70798363352978E9|    1|            168|       42.0|\n",
            "+-------+-------------------+-------------------+--------------+-------------+------+-------+---+---+------------------+-----+---------------+-----------+\n",
            "only showing top 20 rows\n",
            "\n"
          ]
        }
      ]
    }
  ]
}